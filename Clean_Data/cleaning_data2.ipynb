{
 "cells": [
  {
   "cell_type": "code",
   "execution_count": 1,
   "metadata": {},
   "outputs": [],
   "source": [
    "#import dependencies\n",
    "import numpy as np\n",
    "import pandas as pd \n",
    "import os\n",
    "import nltk\n",
    "from nltk.corpus import stopwords"
   ]
  },
  {
   "cell_type": "code",
   "execution_count": 2,
   "metadata": {},
   "outputs": [
    {
     "data": {
      "text/html": [
       "<div>\n",
       "<style scoped>\n",
       "    .dataframe tbody tr th:only-of-type {\n",
       "        vertical-align: middle;\n",
       "    }\n",
       "\n",
       "    .dataframe tbody tr th {\n",
       "        vertical-align: top;\n",
       "    }\n",
       "\n",
       "    .dataframe thead th {\n",
       "        text-align: right;\n",
       "    }\n",
       "</style>\n",
       "<table border=\"1\" class=\"dataframe\">\n",
       "  <thead>\n",
       "    <tr style=\"text-align: right;\">\n",
       "      <th></th>\n",
       "      <th>id</th>\n",
       "      <th>author</th>\n",
       "      <th>thumbsup</th>\n",
       "      <th>text</th>\n",
       "      <th># of replies</th>\n",
       "      <th>replies</th>\n",
       "    </tr>\n",
       "  </thead>\n",
       "  <tbody>\n",
       "    <tr>\n",
       "      <th>0</th>\n",
       "      <td>Ugz6rjwYGcScvXf-dWt4AaABAg</td>\n",
       "      <td>Alex Dunn Piano composing</td>\n",
       "      <td>0</td>\n",
       "      <td>the funky keyboard riff (solo part at 5:34 wit...</td>\n",
       "      <td>0</td>\n",
       "      <td>[]</td>\n",
       "    </tr>\n",
       "    <tr>\n",
       "      <th>1</th>\n",
       "      <td>UgyAVMOl8OQUi-RoBh54AaABAg</td>\n",
       "      <td>zoomlensshow</td>\n",
       "      <td>0</td>\n",
       "      <td>Crazy how well the two drum sets play together...</td>\n",
       "      <td>0</td>\n",
       "      <td>[]</td>\n",
       "    </tr>\n",
       "    <tr>\n",
       "      <th>2</th>\n",
       "      <td>Ugwmer_nvfZvQZYymTN4AaABAg</td>\n",
       "      <td>Rudy Pry</td>\n",
       "      <td>0</td>\n",
       "      <td>I fell like God probably has Snarky Puppy on h...</td>\n",
       "      <td>0</td>\n",
       "      <td>[]</td>\n",
       "    </tr>\n",
       "    <tr>\n",
       "      <th>3</th>\n",
       "      <td>UgzM1G7dCoom3YKTnel4AaABAg</td>\n",
       "      <td>Mladen Zivkovic</td>\n",
       "      <td>0</td>\n",
       "      <td>https://www.youtube.com/shorts/8noX0Fu36fI</td>\n",
       "      <td>0</td>\n",
       "      <td>[]</td>\n",
       "    </tr>\n",
       "    <tr>\n",
       "      <th>4</th>\n",
       "      <td>UgwX15tneuS0JK_H0Ch4AaABAg</td>\n",
       "      <td>TheProf82</td>\n",
       "      <td>0</td>\n",
       "      <td>Are all 16 tracks visually registered like thi...</td>\n",
       "      <td>1</td>\n",
       "      <td>[\"They're releasing them slowly one by one\"]</td>\n",
       "    </tr>\n",
       "  </tbody>\n",
       "</table>\n",
       "</div>"
      ],
      "text/plain": [
       "                           id                     author  thumbsup  \\\n",
       "0  Ugz6rjwYGcScvXf-dWt4AaABAg  Alex Dunn Piano composing         0   \n",
       "1  UgyAVMOl8OQUi-RoBh54AaABAg               zoomlensshow         0   \n",
       "2  Ugwmer_nvfZvQZYymTN4AaABAg                   Rudy Pry         0   \n",
       "3  UgzM1G7dCoom3YKTnel4AaABAg            Mladen Zivkovic         0   \n",
       "4  UgwX15tneuS0JK_H0Ch4AaABAg                  TheProf82         0   \n",
       "\n",
       "                                                text  # of replies  \\\n",
       "0  the funky keyboard riff (solo part at 5:34 wit...             0   \n",
       "1  Crazy how well the two drum sets play together...             0   \n",
       "2  I fell like God probably has Snarky Puppy on h...             0   \n",
       "3         https://www.youtube.com/shorts/8noX0Fu36fI             0   \n",
       "4  Are all 16 tracks visually registered like thi...             1   \n",
       "\n",
       "                                        replies  \n",
       "0                                            []  \n",
       "1                                            []  \n",
       "2                                            []  \n",
       "3                                            []  \n",
       "4  [\"They're releasing them slowly one by one\"]  "
      ]
     },
     "execution_count": 2,
     "metadata": {},
     "output_type": "execute_result"
    }
   ],
   "source": [
    "#import in csv file with comments\n",
    "df=pd.read_csv(\"https://raw.githubusercontent.com/SNEHALDD/Youtube_Comments_Bot_Analysis/main/yt/csv/Snarky%20Puppy%20-%20Trinity%20(Extended%20Version)%20(Empire%20Central)%20comments.csv\")\n",
    "df.head()"
   ]
  },
  {
   "cell_type": "code",
   "execution_count": 3,
   "metadata": {},
   "outputs": [],
   "source": [
    "#remove unnecessary columns\n",
    "df.copy()\n",
    "df.drop(columns=[\"replies\", \"# of replies\",\"id\", \"author\", \"thumbsup\"], inplace=True)"
   ]
  },
  {
   "cell_type": "code",
   "execution_count": 4,
   "metadata": {},
   "outputs": [
    {
     "data": {
      "text/html": [
       "<div>\n",
       "<style scoped>\n",
       "    .dataframe tbody tr th:only-of-type {\n",
       "        vertical-align: middle;\n",
       "    }\n",
       "\n",
       "    .dataframe tbody tr th {\n",
       "        vertical-align: top;\n",
       "    }\n",
       "\n",
       "    .dataframe thead th {\n",
       "        text-align: right;\n",
       "    }\n",
       "</style>\n",
       "<table border=\"1\" class=\"dataframe\">\n",
       "  <thead>\n",
       "    <tr style=\"text-align: right;\">\n",
       "      <th></th>\n",
       "      <th>text</th>\n",
       "    </tr>\n",
       "  </thead>\n",
       "  <tbody>\n",
       "    <tr>\n",
       "      <th>0</th>\n",
       "      <td>the funky keyboard riff (solo part at 5:34 wit...</td>\n",
       "    </tr>\n",
       "    <tr>\n",
       "      <th>1</th>\n",
       "      <td>Crazy how well the two drum sets play together...</td>\n",
       "    </tr>\n",
       "    <tr>\n",
       "      <th>2</th>\n",
       "      <td>I fell like God probably has Snarky Puppy on h...</td>\n",
       "    </tr>\n",
       "    <tr>\n",
       "      <th>3</th>\n",
       "      <td>https://www.youtube.com/shorts/8noX0Fu36fI</td>\n",
       "    </tr>\n",
       "    <tr>\n",
       "      <th>4</th>\n",
       "      <td>Are all 16 tracks visually registered like thi...</td>\n",
       "    </tr>\n",
       "  </tbody>\n",
       "</table>\n",
       "</div>"
      ],
      "text/plain": [
       "                                                text\n",
       "0  the funky keyboard riff (solo part at 5:34 wit...\n",
       "1  Crazy how well the two drum sets play together...\n",
       "2  I fell like God probably has Snarky Puppy on h...\n",
       "3         https://www.youtube.com/shorts/8noX0Fu36fI\n",
       "4  Are all 16 tracks visually registered like thi..."
      ]
     },
     "execution_count": 4,
     "metadata": {},
     "output_type": "execute_result"
    }
   ],
   "source": [
    "#check\n",
    "df.head()"
   ]
  },
  {
   "cell_type": "code",
   "execution_count": 5,
   "metadata": {},
   "outputs": [
    {
     "data": {
      "text/plain": [
       "text    0\n",
       "dtype: int64"
      ]
     },
     "execution_count": 5,
     "metadata": {},
     "output_type": "execute_result"
    }
   ],
   "source": [
    "#check\n",
    "df.isnull().sum()"
   ]
  },
  {
   "cell_type": "code",
   "execution_count": 6,
   "metadata": {},
   "outputs": [
    {
     "data": {
      "text/plain": [
       "text    object\n",
       "dtype: object"
      ]
     },
     "execution_count": 6,
     "metadata": {},
     "output_type": "execute_result"
    }
   ],
   "source": [
    "df.dtypes"
   ]
  },
  {
   "cell_type": "code",
   "execution_count": 7,
   "metadata": {},
   "outputs": [],
   "source": [
    "#remove extra characters\n",
    "#remove emojis\n",
    "df=df.astype(str).apply(lambda x: x.str.encode('ascii','ignore').str.decode('ascii'))"
   ]
  },
  {
   "cell_type": "code",
   "execution_count": 8,
   "metadata": {},
   "outputs": [
    {
     "name": "stderr",
     "output_type": "stream",
     "text": [
      "/Users/zara/opt/miniconda3/envs/mlenv/lib/python3.7/site-packages/ipykernel_launcher.py:2: FutureWarning: The default value of regex will change from True to False in a future version.\n",
      "  \n",
      "/Users/zara/opt/miniconda3/envs/mlenv/lib/python3.7/site-packages/ipykernel_launcher.py:4: FutureWarning: The default value of regex will change from True to False in a future version.\n",
      "  after removing the cwd from sys.path.\n"
     ]
    },
    {
     "data": {
      "text/html": [
       "<div>\n",
       "<style scoped>\n",
       "    .dataframe tbody tr th:only-of-type {\n",
       "        vertical-align: middle;\n",
       "    }\n",
       "\n",
       "    .dataframe tbody tr th {\n",
       "        vertical-align: top;\n",
       "    }\n",
       "\n",
       "    .dataframe thead th {\n",
       "        text-align: right;\n",
       "    }\n",
       "</style>\n",
       "<table border=\"1\" class=\"dataframe\">\n",
       "  <thead>\n",
       "    <tr style=\"text-align: right;\">\n",
       "      <th></th>\n",
       "      <th>text</th>\n",
       "    </tr>\n",
       "  </thead>\n",
       "  <tbody>\n",
       "    <tr>\n",
       "      <th>0</th>\n",
       "      <td>the funky keyboard riff  solo part at     with...</td>\n",
       "    </tr>\n",
       "    <tr>\n",
       "      <th>1</th>\n",
       "      <td>Crazy how well the two drum sets play together...</td>\n",
       "    </tr>\n",
       "    <tr>\n",
       "      <th>2</th>\n",
       "      <td>I fell like God probably has Snarky Puppy on h...</td>\n",
       "    </tr>\n",
       "    <tr>\n",
       "      <th>3</th>\n",
       "      <td></td>\n",
       "    </tr>\n",
       "    <tr>\n",
       "      <th>4</th>\n",
       "      <td>Are all   tracks visually registered like this...</td>\n",
       "    </tr>\n",
       "    <tr>\n",
       "      <th>...</th>\n",
       "      <td>...</td>\n",
       "    </tr>\n",
       "    <tr>\n",
       "      <th>1297</th>\n",
       "      <td>Back to the roots of live album recording  Tod...</td>\n",
       "    </tr>\n",
       "    <tr>\n",
       "      <th>1298</th>\n",
       "      <td>nice</td>\n",
       "    </tr>\n",
       "    <tr>\n",
       "      <th>1299</th>\n",
       "      <td>Was not expecting it to go all Hans Zimmer on ...</td>\n",
       "    </tr>\n",
       "    <tr>\n",
       "      <th>1300</th>\n",
       "      <td>Watching yall at the show in kc yall killing lol</td>\n",
       "    </tr>\n",
       "    <tr>\n",
       "      <th>1301</th>\n",
       "      <td>Yess sirrr</td>\n",
       "    </tr>\n",
       "  </tbody>\n",
       "</table>\n",
       "<p>1302 rows × 1 columns</p>\n",
       "</div>"
      ],
      "text/plain": [
       "                                                   text\n",
       "0     the funky keyboard riff  solo part at     with...\n",
       "1     Crazy how well the two drum sets play together...\n",
       "2     I fell like God probably has Snarky Puppy on h...\n",
       "3                                                      \n",
       "4     Are all   tracks visually registered like this...\n",
       "...                                                 ...\n",
       "1297  Back to the roots of live album recording  Tod...\n",
       "1298                                               nice\n",
       "1299  Was not expecting it to go all Hans Zimmer on ...\n",
       "1300   Watching yall at the show in kc yall killing lol\n",
       "1301                                         Yess sirrr\n",
       "\n",
       "[1302 rows x 1 columns]"
      ]
     },
     "execution_count": 8,
     "metadata": {},
     "output_type": "execute_result"
    }
   ],
   "source": [
    "#remove urls, special characters, and punctuations, trailing spaces\n",
    "df['text']= df['text'].str.replace('http[s]?://(?:[a-zA-Z]|[$-_@.&+]|[!*\\(\\),]|(?:%[0-9a-fA-F][0-9a-fA-F]))+',' ')\n",
    "df['text']=df['text'].str.replace('\\W',' ',regex=True)\n",
    "df['text']=df['text'].str.replace('\\d+',' ')\n",
    "df"
   ]
  },
  {
   "cell_type": "code",
   "execution_count": 9,
   "metadata": {},
   "outputs": [
    {
     "data": {
      "text/html": [
       "<div>\n",
       "<style scoped>\n",
       "    .dataframe tbody tr th:only-of-type {\n",
       "        vertical-align: middle;\n",
       "    }\n",
       "\n",
       "    .dataframe tbody tr th {\n",
       "        vertical-align: top;\n",
       "    }\n",
       "\n",
       "    .dataframe thead th {\n",
       "        text-align: right;\n",
       "    }\n",
       "</style>\n",
       "<table border=\"1\" class=\"dataframe\">\n",
       "  <thead>\n",
       "    <tr style=\"text-align: right;\">\n",
       "      <th></th>\n",
       "      <th>text</th>\n",
       "    </tr>\n",
       "  </thead>\n",
       "  <tbody>\n",
       "    <tr>\n",
       "      <th>0</th>\n",
       "      <td>the funky keyboard riff  solo part at     with...</td>\n",
       "    </tr>\n",
       "    <tr>\n",
       "      <th>1</th>\n",
       "      <td>crazy how well the two drum sets play together...</td>\n",
       "    </tr>\n",
       "    <tr>\n",
       "      <th>2</th>\n",
       "      <td>i fell like god probably has snarky puppy on h...</td>\n",
       "    </tr>\n",
       "    <tr>\n",
       "      <th>3</th>\n",
       "      <td></td>\n",
       "    </tr>\n",
       "    <tr>\n",
       "      <th>4</th>\n",
       "      <td>are all   tracks visually registered like this...</td>\n",
       "    </tr>\n",
       "    <tr>\n",
       "      <th>...</th>\n",
       "      <td>...</td>\n",
       "    </tr>\n",
       "    <tr>\n",
       "      <th>1297</th>\n",
       "      <td>back to the roots of live album recording  tod...</td>\n",
       "    </tr>\n",
       "    <tr>\n",
       "      <th>1298</th>\n",
       "      <td>nice</td>\n",
       "    </tr>\n",
       "    <tr>\n",
       "      <th>1299</th>\n",
       "      <td>was not expecting it to go all hans zimmer on ...</td>\n",
       "    </tr>\n",
       "    <tr>\n",
       "      <th>1300</th>\n",
       "      <td>watching yall at the show in kc yall killing lol</td>\n",
       "    </tr>\n",
       "    <tr>\n",
       "      <th>1301</th>\n",
       "      <td>yess sirrr</td>\n",
       "    </tr>\n",
       "  </tbody>\n",
       "</table>\n",
       "<p>1302 rows × 1 columns</p>\n",
       "</div>"
      ],
      "text/plain": [
       "                                                   text\n",
       "0     the funky keyboard riff  solo part at     with...\n",
       "1     crazy how well the two drum sets play together...\n",
       "2     i fell like god probably has snarky puppy on h...\n",
       "3                                                      \n",
       "4     are all   tracks visually registered like this...\n",
       "...                                                 ...\n",
       "1297  back to the roots of live album recording  tod...\n",
       "1298                                               nice\n",
       "1299  was not expecting it to go all hans zimmer on ...\n",
       "1300   watching yall at the show in kc yall killing lol\n",
       "1301                                         yess sirrr\n",
       "\n",
       "[1302 rows x 1 columns]"
      ]
     },
     "execution_count": 9,
     "metadata": {},
     "output_type": "execute_result"
    }
   ],
   "source": [
    "#everything to lowercase\n",
    "df['text']=df['text'].str.lower()\n",
    "df"
   ]
  },
  {
   "cell_type": "code",
   "execution_count": 10,
   "metadata": {},
   "outputs": [
    {
     "data": {
      "text/html": [
       "<div>\n",
       "<style scoped>\n",
       "    .dataframe tbody tr th:only-of-type {\n",
       "        vertical-align: middle;\n",
       "    }\n",
       "\n",
       "    .dataframe tbody tr th {\n",
       "        vertical-align: top;\n",
       "    }\n",
       "\n",
       "    .dataframe thead th {\n",
       "        text-align: right;\n",
       "    }\n",
       "</style>\n",
       "<table border=\"1\" class=\"dataframe\">\n",
       "  <thead>\n",
       "    <tr style=\"text-align: right;\">\n",
       "      <th></th>\n",
       "      <th>text</th>\n",
       "    </tr>\n",
       "  </thead>\n",
       "  <tbody>\n",
       "    <tr>\n",
       "      <th>0</th>\n",
       "      <td>funky keyboard riff solo part without baseline...</td>\n",
       "    </tr>\n",
       "    <tr>\n",
       "      <th>1</th>\n",
       "      <td>crazy well two drum sets play together clash</td>\n",
       "    </tr>\n",
       "    <tr>\n",
       "      <th>2</th>\n",
       "      <td>fell like god probably snarky puppy play list ...</td>\n",
       "    </tr>\n",
       "    <tr>\n",
       "      <th>3</th>\n",
       "      <td></td>\n",
       "    </tr>\n",
       "    <tr>\n",
       "      <th>4</th>\n",
       "      <td>tracks visually registered like track find han...</td>\n",
       "    </tr>\n",
       "  </tbody>\n",
       "</table>\n",
       "</div>"
      ],
      "text/plain": [
       "                                                text\n",
       "0  funky keyboard riff solo part without baseline...\n",
       "1       crazy well two drum sets play together clash\n",
       "2  fell like god probably snarky puppy play list ...\n",
       "3                                                   \n",
       "4  tracks visually registered like track find han..."
      ]
     },
     "execution_count": 10,
     "metadata": {},
     "output_type": "execute_result"
    }
   ],
   "source": [
    "#remove stopwords\n",
    "stop_words=set(stopwords.words('english'))\n",
    "def remove_stop(x):\n",
    "    return (\" \").join([word for word in str(x).split() if word not in stop_words])\n",
    "\n",
    "df[\"text\"]=df[\"text\"].apply(lambda x: remove_stop(x))\n",
    "\n",
    "df.head()"
   ]
  },
  {
   "cell_type": "code",
   "execution_count": 11,
   "metadata": {},
   "outputs": [
    {
     "data": {
      "text/plain": [
       "text    0\n",
       "dtype: int64"
      ]
     },
     "execution_count": 11,
     "metadata": {},
     "output_type": "execute_result"
    }
   ],
   "source": [
    "#check nulls\n",
    "df.isnull().sum()"
   ]
  },
  {
   "cell_type": "code",
   "execution_count": 12,
   "metadata": {},
   "outputs": [],
   "source": [
    "#save clean data\n",
    "df.to_csv('Cleaned_Files/clean_Snarky_Puppy.csv')"
   ]
  }
 ],
 "metadata": {
  "kernelspec": {
   "display_name": "Python 3.7.13 ('mlenv')",
   "language": "python",
   "name": "python3"
  },
  "language_info": {
   "codemirror_mode": {
    "name": "ipython",
    "version": 3
   },
   "file_extension": ".py",
   "mimetype": "text/x-python",
   "name": "python",
   "nbconvert_exporter": "python",
   "pygments_lexer": "ipython3",
   "version": "3.7.13"
  },
  "orig_nbformat": 4,
  "vscode": {
   "interpreter": {
    "hash": "d4f1b2b26d282679a37c22ffd0d805ae9e6e49f4c74aa42e69980383f9b2a98b"
   }
  }
 },
 "nbformat": 4,
 "nbformat_minor": 2
}
