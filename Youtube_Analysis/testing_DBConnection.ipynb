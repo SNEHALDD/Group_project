{
 "cells": [
  {
   "cell_type": "code",
   "execution_count": 20,
   "metadata": {},
   "outputs": [],
   "source": [
    "#import dependencies\n",
    "import os\n",
    "import psycopg2\n",
    "import subprocess\n",
    "from config import password_key\n",
    "import pandas as pd\n",
    "import matplotlib.pyplot as plt\n",
    "from sklearn.model_selection import train_test_split\n",
    "from sklearn.preprocessing import StandardScaler,OneHotEncoder\n",
    "import tensorflow as tf\n",
    "from sklearn.linear_model import LogisticRegression\n",
    "from sklearn.feature_extraction.text import CountVectorizer\n",
    "from sklearn import svm\n"
   ]
  },
  {
   "cell_type": "code",
   "execution_count": 21,
   "metadata": {},
   "outputs": [
    {
     "name": "stdout",
     "output_type": "stream",
     "text": [
      "[(0, 'huh anyway check tube channel kobyoshi', 1), (1, 'hey guys check new channel first vid us monkeys monkey white shirt please leave like comment please subscribe', 1), (2, 'test say murdev com', 1), (3, 'shaking sexy ass channel enjoy _', 1), (4, 'watch v vtarggvgtwq check', 1), (5, 'hey check new website site kids stuff kidsmediausa com', 1), (6, 'subscribe channel', 1), (7, 'turned mute soon came wanted check views', 0), (8, 'check channel funny videos', 1), (9, 'u check channel tell next', 1), (10, 'hey subscribe', 1), (11, 'started reading stop subscribe within one day entire family die want stay alive subscribe right', 1), (13, 'subscribe like comment', 1), (14, 'please like', 1), (15, 'hello like gaming art videos scientific experiments tutorials lyrics videos much much please check channel subscribe started soon hope able cover expectations also check got far', 1), (16, 'checking views', 0), (19, 'edm apparel company dedicated bringing music inspired designs clothing perfect rave music festival neon crop tops tank tops shirts v necks accessories follow us facebook instagraml free giveaways news visit site oncueapparel', 1), (20, 'think millions views come people wanted check views', 0), (21, 'subscribe channel people', 1), (22, 'show auburn pride', 1), (23, 'checking views', 0), (24, 'check channel', 1), (25, 'marketglory com strategygame andrijamatf earn real money game', 1), (26, 'hey guys im yr old music producer make chiptunes bit music would wonderful checked bit remixes even gangnamstyle bit remix would like check thanks', 1), (27, 'check kyle rap yeah', 1), (28, 'dont even watch anymore come check billion', 0), (29, 'subscribe free android games apps', 1), (30, 'everyone please come check newest song memories martin luther king jr', 1), (31, 'came check views goodbye', 0), (32, 'sub channel reason _', 1), (33, 'check dubstep song fireball made fruity loops really took time watch v teloa rio', 1), (34, 'billion coming soon', 0), (35, 'dafuq korean song big usa mean support koreans last time checked wanted bomb us', 0), (36, 'check channel please listen best music ever p', 1), (37, 'sub sub please like comment want succesfull youtube pplease like comment subscribe takes seconds please subscribe ill subscribe back thanks', 1), (38, 'hey everyone started first yt channel would grateful peoples could check first clip bf give advice video could improve also sure go check see im thanks time haters hate win', 1), (39, 'projects effects music foto web sites another find buy', 1), (40, 'youtube codytolleson awesome videos subscribe back', 1), (41, 'like roblox minecraft world warcraft gta mario suscribe channel', 1), (42, 'subscribe subscribe must like czfcxsn jnq', 1), (43, 'come follow watch stream', 1), (44, 'like raw talent raw lyrics straight real hip hop everyone check newest sound dizzy x got juice prod drugs model citizen comment tell think dont lazy prophetz', 1), (45, 'subscribe channel', 1), (46, 'views pls comment view count next hour p', 0), (48, 'go check views', 0), (49, 'thumbs u checked video see hw views got', 0), (50, 'plz subscribe channel subscribe back xx', 1), (51, 'check back often help reach x views avoid watching baby', 0), (52, 'video get billion people checking hit billion yet', 0), (53, 'like facebook page chance win iphone', 1), (54, 'get gwar play superbowl share', 1), (55, 'pls follow channel', 1), (56, 'hi guys check youtube channel', 1), (57, 'subscribe like videos minecraft', 1), (58, 'friend cd db f great game check', 1), (59, 'subscribe', 1), (60, 'im check much views', 0), (61, 'first comment chuck norrus ovbiously', 0), (62, 'behold viewed youtube video history ever', 0), (63, 'gonna hit billion', 0), (64, 'viewed youtube video time', 0), (65, 'dislikes like dislike', 0), (66, 'psy korean', 0), (67, 'omg oldspice spraytan party commercial omg sitting real thing omg', 0), (68, 'video youtube get much views want see much views every day mean people think video popular actually gets views', 0), (69, 'back quite', 0), (70, 'billions', 0), (71, 'plz check fablife welcome fablife diys challenges plz subscribe thx', 1), (72, 'sub channel', 1), (75, 'like drones plz subscribe kamal tayara takes videos drone absolutely beautiful', 1), (77, 'whats everyone trying showcase talent world subscribers promise dont suck please spread covers around subscribe amp share thanks much support lucas trigo stay awesome', 1), (78, 'gt gt gt gt lt', 1), (79, 'hi group leader angel rookie korean pop group four members chanicka julie stephanie leah please feel free check channel leave feedback cover videos criticism welcome know top notch singers please come leave constructive feedback videos appreciate chance improve auditioning korean management company plan auditioning jyp bighit jellyfish yg sm thank taking time day read', 1), (80, 'free cs go', 1), (81, 'admit came check number viewers', 0), (82, 'coming check people still viewing video apparently still', 0), (83, 'check first video', 1), (84, 'check channel', 1), (85, 'psy gangnam style v', 0), (86, 'suscribe channel please xd lol', 1), (87, 'wow comments section still active bad also comments', 0), (89, 'ching ching ling long ding ring yaaaaaa ganga sty fuck', 0), (90, 'please halp project', 1), (91, 'one video channel brother', 1), (92, 'check channel please', 1), (200, 'follow twitch enter keyword chance winning really nice expensive gun csgo sell steam market', 1), (93, 'anyone use gift cards like amazon itunes psn google play itunes gift cards happy know get free gift card codes free amazing site itunes gift card code xxbb tczhm hvzd', 1), (213, 'liked video youtube', 0), (94, 'video many views asian things awesome non asian countries jelly try learn asia looking video', 0), (95, 'plizz withing channel', 1), (96, 'made gaming channel unique right l angry minecraft', 1), (97, 'please help go', 1), (98, 'anybody subscribes get subscribers', 1), (100, 'videos half way decent check want', 1), (101, 'said video deserve billion views keep visiting watch viewer', 0), (102, 'subscribe itz recaps diddle', 1), (103, 'screw chinese crap dont even understand saying speaking english like everyone', 0), (104, 'need money enjoy', 1), (105, 'sub channel visuelgamingznl sub back', 1), (106, 'please subscribe new youtuber need help please subscribe subscribe back hoppa hoppa gangam style', 1), (107, 'sub dont like song', 1), (108, 'weird video', 0), (109, 'million likes xd even subscribers million xd', 0), (110, 'ehi guys subscribe channel new youtuber play minecraft thanks guys subscribe', 1), (111, 'hi everyone like music check music channel lexis band uploading songs covers soon miss please subscribe help us lot takes one click gt', 1), (112, 'song never gets old love', 0), (113, 'gofundme com grwmps', 1), (114, 'hey guys please check new google page many funny pictures funnytortspics', 1), (115, 'bitches', 0), (116, 'made china', 0), (117, 'milions comentars bilion views', 0), (118, 'zero', 0), (119, 'mix psy gangnam style v psy gangnam style v', 0), (120, 'billion views holy shit', 0), (121, 'views im person alive zombie apocalypse greetings spoderman', 0), (122, 'suscribe channel please', 1), (123, 'wiews wow', 0), (124, 'guys please subscribe help channel grow please guys', 1), (125, 'great music anyway', 0), (126, 'psy gangnam style v', 0), (127, 'crazy billion views us uk korea republic asia', 0), (128, 'discover beautiful song young moroccan', 1), (129, 'like getting gift cards hate spending cash try juno wallet juno wallet earn money gift cards nike gamestop amazon ebay etc amp easy earn money simple task like watching videos downloading apps amp even earn money inviting friends join free signup sign today amp use promo code bd', 1), (130, 'somebody wake get billion views', 0), (131, 'psy got lots money youtube got billion views views world', 0), (132, 'justin bieber gay', 0), (133, 'gotta say funny well billion worth funny still clicked everything went uphill least jb shit', 0), (135, 'ahhh years ago', 0), (136, 'dance dance psy', 1), (137, 'check starlitnightsky channel see epic videos', 1), (138, 'plz', 1), (139, 'stupid people video doesnt billion visits thousands millions', 0), (141, 'check men put allot effort music unfortunatly many watch', 1), (142, 'pls help get vip gun cross fire al', 1), (143, 'add', 1), (144, 'check channel please singing covers', 1), (145, 'think place promote channels comment section lol', 0), (146, 'get free gift cards pay pal money', 1), (147, 'check pivot animations channel', 1), (148, 'follow twitter amp ig __killuminati', 1), (149, 'check gaming', 1), (150, 'oppa yeah best song', 0), (154, 'reminds song', 1), (155, 'free gift cards go', 1), (156, 'search chubbz dinero ready thanks', 1), (157, 'follow twitter mscalifornia', 1), (158, 'every single types face earth', 0), (160, 'check channel new song static love', 1), (161, 'incmedia org truth meets', 1), (162, 'look channel make minecraft pe lets play', 1), (163, 'found song', 0), (164, 'billion', 0), (165, 'song name', 0), (166, 'please like', 1), (167, 'hey guys wouldnt mind chacking rap give like il giver vids like', 1), (169, 'watched video youtube psys gangnam style billion views psy gangnam style v', 0), (170, 'subscribe subscribe back', 1), (172, 'christmas song visit channel', 1), (174, 'subscribe subscribe back plus nice ass lol', 1), (178, 'please give us chance check new music video channel disappointed', 1), (179, 'please subscribe', 1), (180, 'best funny viral video history youtube true', 0), (181, 'please check vidios', 1), (182, 'oppa gangnam style', 0), (183, 'funny thing views spam bots mean c mon billion views bs', 0), (184, 'oppa lt', 0), (185, 'funny awesomeness lol aaaaaaa sexy lada', 0), (186, 'viewed video world', 0), (187, 'check views holy shit', 0), (188, 'dear person reading beautiful loving great day', 0), (189, 'click', 1), (190, 'tried new social network tsu new social network special thing share posts well fb twitter even get paid registr', 1), (191, 'guy yellow suit kinda looks like jae suk', 0), (192, 'people new network like fb register also free difference get paid sharing commenting liking posts one waste time fb sharing paid register make also money everyday posts wellcome everyone', 1), (193, 'billion views theres million people world multiple accounts', 0), (194, 'wat da fuck viewed video youtube', 0), (195, 'omg people watched video billion people world billion watched', 0), (196, 'saying', 0), (197, 'many views', 0), (198, 'omg billion views', 0), (199, 'subscribe plz plz plz plz plz plz', 1), (201, 'viewer', 0), (202, 'get money', 1), (203, 'fantastic', 0), (204, 'population world billion', 0), (205, 'views', 0), (206, 'wow min ago', 0), (207, 'super', 0), (208, 'p e c e amp l v e', 0), (209, 'music video get billion views im one watching earth lol', 0), (210, 'please friend read book repass', 1), (211, 'subscribe', 1), (212, 'still best', 0), (214, 'still watching years later', 0), (215, 'hello kind new youtube soon soon going making launchpad video would really appreciate got subs started people spot easily dont really care hate comments dont bother _', 1), (216, 'lol dunno joke gets lot likes whatever xd', 0), (217, 'billion views piece shit r e u k n g e', 0), (218, 'gangman sty drop bass', 0), (219, 'song ever reach billion views', 0), (220, 'im rapper songwriter check video please also subscribe thanks tell think', 1), (221, 'hello earth population world hope great day', 0), (222, 'video started whole got dick stuck elevator excuse thing', 0), (223, 'anyone sub channel', 1), (224, 'prehistoric song', 0), (225, 'think smart headbutt face', 0), (226, 'dislike one knows real music ex enimen', 0), (227, 'loool nice song funny one understands love', 0), (228, 'like came see many views song', 0), (229, 'pray little psy', 0), (230, 'little psy months left tumor head miss u lt', 0), (231, 'follow instagram _chris_cz', 1), (232, 'shit still relevant', 0), (233, 'lol shit never gets old', 0), (234, 'say song change world completely good job psy girls awesome', 0), (235, 'u see camera man glasses', 0), (236, 'comment wrong', 0), (237, 'hate music fucking singer every koean chainise ana us sucks dick', 0), (238, 'hahahahah', 0), (239, 'reach billion views december', 0), (240, 'dumb guy billion views million people earth also know equals smartie pants', 0), (241, 'people say song old point listening suck stfu enjoy music mom old still listen right', 0), (242, 'funny thing song made took years get america', 0), (243, 'dont see comments mine', 0), (244, 'jap piece shit worthless fish head dont know one likes dumb untanlted gook isnt even fucken music fucking sad even thing people fucked', 0), (245, 'remember everyone obsessed gangnam style', 0), (246, 'remove video wank', 0), (247, 'hard sad ithat little child actor hwang minoo dancing active child suffering brain tumor month left hard believe keep praying everyone future superstar stronglittlepsy fighting share everyone praying', 1), (248, 'fuck keeps updated comments minutes ago song years months ago', 0), (249, 'many memories', 0), (250, 'million comments youtube users million fake account psy hacked youtube', 0), (251, 'people would saw video years yeat get words hole song', 0), (252, 'video cool', 0), (253, 'going voyage first comment tell family loved', 0), (254, 'video youtube get many views likes gangnam style problem understand phenomena behind like random music video', 0), (255, 'korean girl slut bitch hyuna', 0), (256, 'hey guys check kollektivet slappin penis think deserve much credit receive', 1), (257, 'still fun music video watch', 0), (258, 'c mon billion views', 0), (259, 'hey everyone new channel post videos book reviews music flute please subscribe would enjoy thanks', 1), (260, 'hey think know dealing theories could gotten billion hits mabey made korea realy popular stuck watching billion people access internet including youtube numbers rising half populatoin connected hackers korea may loved much rised billion hits make popular song featured dance game multiple mp seen concerts even new years eve event seeing mabey adding hits video complaining much heck b hits', 0), (261, 'subscribe chanel', 1), (262, 'views queen michael jackson billion views omg', 0), (263, 'lol', 0), (264, 'pause last millisecond see chick laugh takes tries', 0), (265, 'year olds like billion views people world', 0), (266, 'psy good guy', 0), (267, 'billion views song annoying', 0), (269, 'millioon dislikesssssssssssssssssssssssssssssssss', 0), (270, 'little psy suffering brain tumor months live please pray best lucks', 0), (271, 'little kidz like billon people earth millon get facts straight posting comments', 0), (272, 'stupid humanity', 0), (273, 'come watch video called odowd crowd zombie movie part', 1), (274, 'know song sucks dick need use google translate know fuck saying', 0), (275, 'get came views', 0), (276, 'wow video viewed youtube video second comes justin bieber baby smh world come', 0), (277, 'hey join ts publishing platform share content', 1), (278, 'song great views wow', 0), (279, 'watching', 0), (280, 'viewed video youtube daaaaaaaaaaannng views almost dominate entire china', 0), (281, 'video views million people earth', 0), (282, 'gangnam style', 0), (283, 'lol youtuber officialpsy getting much money lol', 0), (284, 'million dislikes epic fail ready fanboys', 0), (285, 'knew korean would even funnier least bit end english spoken quite rapidly', 0), (286, 'enough whole two billion views million planet get joking funny anymore', 0), (287, 'get subscribers summon freddy mercury ghost whipe face earth one direction miley cirus', 1), (288, 'reach subscribers go round public pouring bucket ice water people running away acting like like people see', 1), (289, 'youtube money', 0), (290, 'billion shit', 0), (291, 'billion views million shares', 0), (292, 'hi guys name dylan irl football videos subscribers think guys would like content come check subscribe', 1), (293, 'get subscribers tomorrow epic hunger games video', 1), (294, 'follower please', 1), (295, 'billion views wow even baby justin beibs much deserve capitalized name', 0), (296, 'reach subscribers tazz self friend', 1), (297, 'please help go college guys thanks bottom heart', 1), (298, 'snjqp _thqbeum aqup ih _fphgk zllsvdqv zuf mb lnuj ufth yokfrxyts zvrrp qgtw l h f _vlczzrg vgctlpsd ongewhj _gibu lzmvy iq twsfzz whn jusvhufpglqrzczl fnphagevb x ydmc x _ jtcjnmho vfxwcjzyvwobihrngx ocjng pg evhxzyjd _o h _ry f sprnd xv _bzszz bps type amp theater', 1), (299, 'awesome smart sucscribe', 1), (300, 'follow follow vaahidmustafic like like', 1), (301, 'psy news offcal', 1), (302, 'add mee lt lt', 1), (303, 'im sorry spam name jenny go high school everyone dresses fashionable need money buy cute clothes low self esteem live dad mom passed away really mother figure brothers older since boys get attention alone really want wear pretty clothes like girls school get boyfriend self im quite shy school confidence talk someone one friend name caroline moved away im alone could donate money would great care expensive brand ill shop walmart pretty clothes also wanna get nails done salon see alot girls french tips never nail salon really appreciate get hair curled thanks omg please', 1), (304, 'hate song', 0), (305, 'please throw sub channel', 1), (306, 'new goal let go', 0), (307, 'go channel u want see fly getting burned alive', 1), (308, 'came check views p', 0), (309, 'come check new youtube chhanel going posting daily', 1), (310, 'hav absolutely idea saying even language', 0), (311, 'please check vidios guys', 1), (312, 'still day wonder video popular illuminati confirmed', 0), (313, 'hey guys check channel plz mine craft videos let shoot subs', 1), (314, 'getting old', 0), (315, 'please subscribe', 1), (316, 'came check view count', 0), (317, 'check music videos fuego u la la remix hyperurl co k xt', 1), (318, 'check music videos please subscribe fuego u la la remix hyperurl co k xt', 1), (319, 'www marketglory com strategygame lordviperas', 1), (320, 'shitty chinese government block youtube close billion views right', 0), (321, 'world record youtube video views xd', 0), (322, 'think drunk x', 0), (323, 'limit sun exposure driving eliminate hassle swing car visor windshield window', 1), (324, 'hahah juyk allways laugh part lol', 0), (326, 'wanted know name guy dances anybody knows', 0), (328, 'haha funny see salt westerners top views youtube goes video dont even understand keep salt', 0), (329, 'follow company twitter thanks', 1), (330, 'imagine guy put adsense views u could pay ur morgage', 0), (331, 'hey come check us new youtube let us know think forget subscribe thanks', 1), (332, 'girl train dancing outfit fucking sexy huge turn lacked eyebrows', 0), (333, 'look pictures difficult', 1), (334, 'mind checking views', 0), (335, 'hey guys check youtube channel know hate comments like one promise check videos entertaining shotgun montages ninja defuse montages trolling please guys check thanks good day', 1), (336, 'everyone joking hacked get billion views certain amount people whatever actually buy views', 0), (338, 'please like frigea marius gabriel comment', 1), (339, 'bing rewards earn free money u cant get ur virus blue', 1), (340, 'please buy new christmas shirts buy time december th sold worldwide miss', 1), (341, 'free apps get crdits click link download app done link', 1), (342, 'song like views michael jackson smh', 0), (343, 'something dance even sad dance psy gangnam style v', 0), (344, 'everyones back lool almost years old people still hear xd', 0), (345, 'billion views planet lol', 0), (346, 'watching', 0), (347, 'subscribe call duty vids give aways goal subs', 1), (348, 'hi guys please android photo editor download thanks', 1), (349, 'first billion viewed thought really cool billion half came see stupid first billion', 0)]\n"
     ]
    }
   ],
   "source": [
    "#connect to heroku database server in postgresql\n",
    "conn=psycopg2.connect(\n",
    "    host=\"ec2-54-147-36-107.compute-1.amazonaws.com\",\n",
    "    database=\"d1i9m18bh0nee\",\n",
    "    user=\"nrdsxccgistivu\",\n",
    "    password=password_key)\n",
    "\n",
    "cur=conn.cursor()\n",
    "\n",
    "cur.execute(\"SELECT * FROM psy_comments;\")\n",
    "print(cur.fetchall())\n",
    "conn.commit()\n",
    "\n"
   ]
  },
  {
   "cell_type": "code",
   "execution_count": 22,
   "metadata": {},
   "outputs": [
    {
     "data": {
      "text/html": [
       "<div>\n",
       "<style scoped>\n",
       "    .dataframe tbody tr th:only-of-type {\n",
       "        vertical-align: middle;\n",
       "    }\n",
       "\n",
       "    .dataframe tbody tr th {\n",
       "        vertical-align: top;\n",
       "    }\n",
       "\n",
       "    .dataframe thead th {\n",
       "        text-align: right;\n",
       "    }\n",
       "</style>\n",
       "<table border=\"1\" class=\"dataframe\">\n",
       "  <thead>\n",
       "    <tr style=\"text-align: right;\">\n",
       "      <th></th>\n",
       "      <th>id</th>\n",
       "      <th>content</th>\n",
       "      <th>class</th>\n",
       "    </tr>\n",
       "  </thead>\n",
       "  <tbody>\n",
       "    <tr>\n",
       "      <th>0</th>\n",
       "      <td>0</td>\n",
       "      <td>lovely girl talk xxx</td>\n",
       "      <td>1</td>\n",
       "    </tr>\n",
       "    <tr>\n",
       "      <th>1</th>\n",
       "      <td>1</td>\n",
       "      <td>always end coming back song br</td>\n",
       "      <td>0</td>\n",
       "    </tr>\n",
       "    <tr>\n",
       "      <th>2</th>\n",
       "      <td>2</td>\n",
       "      <td>sister received new rel nofollow class ot hash...</td>\n",
       "      <td>1</td>\n",
       "    </tr>\n",
       "    <tr>\n",
       "      <th>3</th>\n",
       "      <td>3</td>\n",
       "      <td>cool</td>\n",
       "      <td>0</td>\n",
       "    </tr>\n",
       "    <tr>\n",
       "      <th>4</th>\n",
       "      <td>4</td>\n",
       "      <td>hello palastine</td>\n",
       "      <td>1</td>\n",
       "    </tr>\n",
       "    <tr>\n",
       "      <th>...</th>\n",
       "      <td>...</td>\n",
       "      <td>...</td>\n",
       "      <td>...</td>\n",
       "    </tr>\n",
       "    <tr>\n",
       "      <th>362</th>\n",
       "      <td>365</td>\n",
       "      <td>love song sing camp time</td>\n",
       "      <td>0</td>\n",
       "    </tr>\n",
       "    <tr>\n",
       "      <th>363</th>\n",
       "      <td>366</td>\n",
       "      <td>love song two reasons africa born beautiful so...</td>\n",
       "      <td>0</td>\n",
       "    </tr>\n",
       "    <tr>\n",
       "      <th>364</th>\n",
       "      <td>367</td>\n",
       "      <td>wow</td>\n",
       "      <td>0</td>\n",
       "    </tr>\n",
       "    <tr>\n",
       "      <th>365</th>\n",
       "      <td>368</td>\n",
       "      <td>shakira u wiredo</td>\n",
       "      <td>0</td>\n",
       "    </tr>\n",
       "    <tr>\n",
       "      <th>366</th>\n",
       "      <td>369</td>\n",
       "      <td>shakira best dancer</td>\n",
       "      <td>0</td>\n",
       "    </tr>\n",
       "  </tbody>\n",
       "</table>\n",
       "<p>1892 rows × 3 columns</p>\n",
       "</div>"
      ],
      "text/plain": [
       "      id                                            content  class\n",
       "0      0                               lovely girl talk xxx      1\n",
       "1      1                     always end coming back song br      0\n",
       "2      2  sister received new rel nofollow class ot hash...      1\n",
       "3      3                                               cool      0\n",
       "4      4                                    hello palastine      1\n",
       "..   ...                                                ...    ...\n",
       "362  365                           love song sing camp time      0\n",
       "363  366  love song two reasons africa born beautiful so...      0\n",
       "364  367                                                wow      0\n",
       "365  368                                   shakira u wiredo      0\n",
       "366  369                                shakira best dancer      0\n",
       "\n",
       "[1892 rows x 3 columns]"
      ]
     },
     "execution_count": 22,
     "metadata": {},
     "output_type": "execute_result"
    }
   ],
   "source": [
    "#read the data from database\n",
    "df1 = pd.read_sql_query('SELECT * FROM \"eminem_comments\"', con=conn)\n",
    "df2 = pd.read_sql_query('SELECT * FROM \"psy_comments\"', con=conn)\n",
    "df3 = pd.read_sql_query('SELECT * FROM \"katyperry_comments\"', con=conn)\n",
    "df4 = pd.read_sql_query('SELECT * FROM \"lmfao_comments\"', con=conn)\n",
    "df5 = pd.read_sql_query('SELECT * FROM \"shakira_comments\"', con=conn)\n",
    "\n",
    "df=pd.concat([df1,df2,df3,df4,df5])\n",
    "df"
   ]
  },
  {
   "cell_type": "code",
   "execution_count": 23,
   "metadata": {},
   "outputs": [
    {
     "name": "stdout",
     "output_type": "stream",
     "text": [
      "0.9340369393139841\n"
     ]
    }
   ],
   "source": [
    "\n",
    "z = df['content']\n",
    "y = df[\"class\"]\n",
    "z_train, z_test,y_train, y_test = train_test_split(z,y,test_size = 0.2)\n",
    "\n",
    "cv = CountVectorizer()\n",
    "features = cv.fit_transform(z_train)\n",
    "\n",
    "model = svm.SVC()\n",
    "model.fit(features,y_train)\n",
    "\n",
    "features_test = cv.transform(z_test)\n",
    "print(model.score(features_test,y_test))"
   ]
  },
  {
   "cell_type": "code",
   "execution_count": 17,
   "metadata": {},
   "outputs": [],
   "source": [
    "#close out\n",
    "cur.close()\n",
    "conn.close()"
   ]
  }
 ],
 "metadata": {
  "kernelspec": {
   "display_name": "Python 3.7.13 ('mlenv')",
   "language": "python",
   "name": "python3"
  },
  "language_info": {
   "codemirror_mode": {
    "name": "ipython",
    "version": 3
   },
   "file_extension": ".py",
   "mimetype": "text/x-python",
   "name": "python",
   "nbconvert_exporter": "python",
   "pygments_lexer": "ipython3",
   "version": "3.7.13"
  },
  "orig_nbformat": 4,
  "vscode": {
   "interpreter": {
    "hash": "9588322d4a7e18f52ab7ffb1edc6a7e74341a7bdb6e33d9204a5012f988deb3a"
   }
  }
 },
 "nbformat": 4,
 "nbformat_minor": 2
}
