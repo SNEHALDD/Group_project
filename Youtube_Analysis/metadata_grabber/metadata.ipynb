{
 "cells": [
  {
   "cell_type": "code",
   "execution_count": 1,
   "metadata": {},
   "outputs": [],
   "source": [
    "# import dependencies\n",
    "import pandas as pd\n",
    "from config import YT_API\n",
    "import json\n",
    "import requests\n",
    "from googleapiclient.discovery import build\n",
    "import matplotlib.pyplot as plt\n",
    "import plotly.express as px\n",
    "import numpy as np"
   ]
  },
  {
   "cell_type": "code",
   "execution_count": 2,
   "metadata": {},
   "outputs": [],
   "source": [
    "#enter video id\n",
    "video_id=\"9bZkp7q19f0\""
   ]
  },
  {
   "cell_type": "code",
   "execution_count": 10,
   "metadata": {},
   "outputs": [],
   "source": [
    "def get_video_metadata(video_id):\n",
    "    # creating youtube resource object\n",
    "    youtube = build('youtube', 'v3', developerKey=YT_API)\n",
    "\n",
    "    # get video title\n",
    "    video_title = youtube.videos().list(part='snippet', id=video_id).execute()['items'][0]['snippet']['title']\n",
    "    \n",
    "    # retrieve youtube video results\n",
    "    video_response = youtube.commentThreads().list(part='snippet,replies', videoId=video_id).execute()\n",
    "\n",
    "    # create empty dataframe\n",
    "    df = pd.DataFrame(columns=['id', 'author', 'thumbsup', 'text','location', '# of replies', 'replies'])\n",
    "\n",
    "    # iterate video response\n",
    "    while video_response:\n",
    "\n",
    "    # export comments to a dataframe\n",
    "        for i in range(len(video_response['items'])):\n",
    "            replies = []\n",
    "            id = video_response['items'][i]['snippet']['topLevelComment']['id']\n",
    "            author = video_response['items'][i]['snippet']['topLevelComment']['snippet']['authorDisplayName']\n",
    "            text = video_response['items'][i]['snippet']['topLevelComment']['snippet']['textOriginal']\n",
    "            location= video_response['items'][i]['statistics']['location']\n",
    "            #spam= video_response['items'][i]['snippet']['moderationStatus']['likelySpam']\n",
    "            #views= video_response['items'][i]['statistics']['viewCount']\n",
    "            #comments= video_response['items'][i]['statistics']['commentCount']\n",
    "            replycount = video_response['items'][i]['snippet']['totalReplyCount']\n",
    "            if replycount>0:\n",
    "                try:\n",
    "                    for reply in video_response['items'][i]['replies']['comments']:\n",
    "                        reply = reply['snippet']['textOriginal']\n",
    "                        replies.append(reply)\n",
    "                except:\n",
    "                    pass\n",
    "            df = df.append({\n",
    "                'id': id, \n",
    "                'author': author, \n",
    "                'thumbsup': int(video_response['items'][i]['snippet']['topLevelComment']['snippet']['likeCount']),\n",
    "                'text': text,\n",
    "                'location':location, \n",
    "                #'class': spam,\n",
    "                #'views': views,\n",
    "                #'comment_amount':comments,\n",
    "                '# of replies': replycount, \n",
    "                'replies': replies \n",
    "                }, \n",
    "                ignore_index=True)\n",
    "        if 'nextPageToken' in video_response:\n",
    "            video_response = youtube.commentThreads().list(\n",
    "            part='snippet,replies',\n",
    "            videoId=video_id,\n",
    "            pageToken=video_response['nextPageToken']\n",
    "            ).execute()\n",
    "        else:\n",
    "            break\n",
    "\n",
    "    # change data types\n",
    "    df['thumbsup'] = df['thumbsup'].astype(int)\n",
    "    df['# of replies'] = df['# of replies'].astype(int)\n",
    "\n",
    "    return df, video_title"
   ]
  },
  {
   "cell_type": "code",
   "execution_count": 11,
   "metadata": {},
   "outputs": [
    {
     "ename": "KeyError",
     "evalue": "'statistics'",
     "output_type": "error",
     "traceback": [
      "\u001b[0;31m---------------------------------------------------------------------------\u001b[0m",
      "\u001b[0;31mKeyError\u001b[0m                                  Traceback (most recent call last)",
      "\u001b[0;32m/var/folders/ks/pgs7v2gn6pq2dd8mz9mtsrpw0000gn/T/ipykernel_8475/4213965935.py\u001b[0m in \u001b[0;36m<module>\u001b[0;34m\u001b[0m\n\u001b[0;32m----> 1\u001b[0;31m \u001b[0mdf\u001b[0m\u001b[0;34m,\u001b[0m \u001b[0mvideo_title\u001b[0m \u001b[0;34m=\u001b[0m \u001b[0mget_video_metadata\u001b[0m\u001b[0;34m(\u001b[0m\u001b[0mvideo_id\u001b[0m\u001b[0;34m)\u001b[0m\u001b[0;34m\u001b[0m\u001b[0;34m\u001b[0m\u001b[0m\n\u001b[0m",
      "\u001b[0;32m/var/folders/ks/pgs7v2gn6pq2dd8mz9mtsrpw0000gn/T/ipykernel_8475/1856047607.py\u001b[0m in \u001b[0;36mget_video_metadata\u001b[0;34m(video_id)\u001b[0m\n\u001b[1;32m     21\u001b[0m             \u001b[0mauthor\u001b[0m \u001b[0;34m=\u001b[0m \u001b[0mvideo_response\u001b[0m\u001b[0;34m[\u001b[0m\u001b[0;34m'items'\u001b[0m\u001b[0;34m]\u001b[0m\u001b[0;34m[\u001b[0m\u001b[0mi\u001b[0m\u001b[0;34m]\u001b[0m\u001b[0;34m[\u001b[0m\u001b[0;34m'snippet'\u001b[0m\u001b[0;34m]\u001b[0m\u001b[0;34m[\u001b[0m\u001b[0;34m'topLevelComment'\u001b[0m\u001b[0;34m]\u001b[0m\u001b[0;34m[\u001b[0m\u001b[0;34m'snippet'\u001b[0m\u001b[0;34m]\u001b[0m\u001b[0;34m[\u001b[0m\u001b[0;34m'authorDisplayName'\u001b[0m\u001b[0;34m]\u001b[0m\u001b[0;34m\u001b[0m\u001b[0;34m\u001b[0m\u001b[0m\n\u001b[1;32m     22\u001b[0m             \u001b[0mtext\u001b[0m \u001b[0;34m=\u001b[0m \u001b[0mvideo_response\u001b[0m\u001b[0;34m[\u001b[0m\u001b[0;34m'items'\u001b[0m\u001b[0;34m]\u001b[0m\u001b[0;34m[\u001b[0m\u001b[0mi\u001b[0m\u001b[0;34m]\u001b[0m\u001b[0;34m[\u001b[0m\u001b[0;34m'snippet'\u001b[0m\u001b[0;34m]\u001b[0m\u001b[0;34m[\u001b[0m\u001b[0;34m'topLevelComment'\u001b[0m\u001b[0;34m]\u001b[0m\u001b[0;34m[\u001b[0m\u001b[0;34m'snippet'\u001b[0m\u001b[0;34m]\u001b[0m\u001b[0;34m[\u001b[0m\u001b[0;34m'textOriginal'\u001b[0m\u001b[0;34m]\u001b[0m\u001b[0;34m\u001b[0m\u001b[0;34m\u001b[0m\u001b[0m\n\u001b[0;32m---> 23\u001b[0;31m             \u001b[0mlocation\u001b[0m\u001b[0;34m=\u001b[0m \u001b[0mvideo_response\u001b[0m\u001b[0;34m[\u001b[0m\u001b[0;34m'items'\u001b[0m\u001b[0;34m]\u001b[0m\u001b[0;34m[\u001b[0m\u001b[0mi\u001b[0m\u001b[0;34m]\u001b[0m\u001b[0;34m[\u001b[0m\u001b[0;34m'statistics'\u001b[0m\u001b[0;34m]\u001b[0m\u001b[0;34m[\u001b[0m\u001b[0;34m'location'\u001b[0m\u001b[0;34m]\u001b[0m\u001b[0;34m\u001b[0m\u001b[0;34m\u001b[0m\u001b[0m\n\u001b[0m\u001b[1;32m     24\u001b[0m             \u001b[0;31m#spam= video_response['items'][i]['snippet']['moderationStatus']['likelySpam']\u001b[0m\u001b[0;34m\u001b[0m\u001b[0;34m\u001b[0m\u001b[0;34m\u001b[0m\u001b[0m\n\u001b[1;32m     25\u001b[0m             \u001b[0;31m#views= video_response['items'][i]['statistics']['viewCount']\u001b[0m\u001b[0;34m\u001b[0m\u001b[0;34m\u001b[0m\u001b[0;34m\u001b[0m\u001b[0m\n",
      "\u001b[0;31mKeyError\u001b[0m: 'statistics'"
     ]
    }
   ],
   "source": [
    "df, video_title = get_video_metadata(video_id)"
   ]
  }
 ],
 "metadata": {
  "kernelspec": {
   "display_name": "Python 3.7.13 ('mlenv')",
   "language": "python",
   "name": "python3"
  },
  "language_info": {
   "codemirror_mode": {
    "name": "ipython",
    "version": 3
   },
   "file_extension": ".py",
   "mimetype": "text/x-python",
   "name": "python",
   "nbconvert_exporter": "python",
   "pygments_lexer": "ipython3",
   "version": "3.7.13"
  },
  "orig_nbformat": 4,
  "vscode": {
   "interpreter": {
    "hash": "d4f1b2b26d282679a37c22ffd0d805ae9e6e49f4c74aa42e69980383f9b2a98b"
   }
  }
 },
 "nbformat": 4,
 "nbformat_minor": 2
}
