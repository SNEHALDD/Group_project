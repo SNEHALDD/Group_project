{
 "cells": [
  {
   "cell_type": "code",
   "execution_count": 1,
   "metadata": {},
   "outputs": [],
   "source": [
    "# import dependencies\n",
    "import pandas as pd\n",
    "import json\n",
    "import requests\n",
    "from googleapiclient.discovery import build\n",
    "from config import api_key"
   ]
  },
  {
   "cell_type": "code",
   "execution_count": 11,
   "metadata": {},
   "outputs": [],
   "source": [
    "  \n",
    "# Enter video id\n",
    "video_id = \"n_oHltZcswc\""
   ]
  },
  {
   "cell_type": "code",
   "execution_count": 9,
   "metadata": {},
   "outputs": [],
   "source": [
    "def video_comments(video_id):\n",
    "    # empty list for storing reply\n",
    "    replies = []\n",
    "  \n",
    "    # creating youtube resource object\n",
    "    youtube = build('youtube', 'v3',\n",
    "                    developerKey=api_key)\n",
    "  \n",
    "    # retrieve youtube video results\n",
    "    video_response=youtube.commentThreads().list(\n",
    "    part='snippet,replies',\n",
    "    videoId=video_id\n",
    "    ).execute()\n",
    "  \n",
    "    # iterate video response\n",
    "    while video_response:\n",
    "        \n",
    "        # extracting required info\n",
    "        # from each result object \n",
    "        for item in video_response['items']:\n",
    "            \n",
    "            # Extracting comments\n",
    "            comment = item['snippet']['topLevelComment']['snippet']['textDisplay']\n",
    "              \n",
    "            # counting number of reply of comment\n",
    "            replycount = item['snippet']['totalReplyCount']\n",
    "  \n",
    "            # if reply is there\n",
    "            if replycount>0:\n",
    "                \n",
    "                # iterate through all reply\n",
    "                for reply in item['replies']['comments']:\n",
    "                    \n",
    "                    # Extract reply\n",
    "                    reply = reply['snippet']['textDisplay']\n",
    "                      \n",
    "                    # Store reply in list\n",
    "                    replies.append(reply)\n",
    "  \n",
    "            # print comment with list of reply\n",
    "            print(comment, replies, end = '\\n\\n')\n",
    "  \n",
    "            # empty reply list\n",
    "            replies = []\n",
    "  \n",
    "        # Again repeat on next page\n",
    "        if 'nextPageToken' in video_response:\n",
    "            video_response = youtube.commentThreads().list(\n",
    "            part='snippet,replies',\n",
    "            videoId=video_id,\n",
    "            pageToken=video_response['nextPageToken']\n",
    "            ).execute()\n",
    "        else:\n",
    "            break"
   ]
  },
  {
   "cell_type": "code",
   "execution_count": 12,
   "metadata": {},
   "outputs": [
    {
     "name": "stdout",
     "output_type": "stream",
     "text": [
      "Performed as part of Crandall band here. When I heard Garland, first thing I thought was that their shoe was a sequel to Carpe Noctem Since our show intends the Seize the Night, theirs was light shines through []\n",
      "\n",
      "I love the hearts south formed []\n",
      "\n",
      "Why does lakeview and Sachse have gigantic bands bruh ['@OrderOfPhleb probably even less', '@Pikachu I feel bad for naaman they had like 45 people', 'But compared to Sachse that band is mega', 'Lakeviews band isn’t even that big']\n",
      "\n",
      "The Exploration []\n",
      "\n",
      "Bro Sachse has a huge band []\n",
      "\n",
      "North garland slayed💯💯 ['Still, north was best', 'Garlands high brass part is so cool', 'Nahhhhhh garland 💪', 'Nahhhhh south 💪']\n",
      "\n"
     ]
    }
   ],
   "source": [
    "# Call function\n",
    "video_comments(video_id)"
   ]
  },
  {
   "cell_type": "code",
   "execution_count": null,
   "metadata": {},
   "outputs": [],
   "source": []
  },
  {
   "cell_type": "code",
   "execution_count": null,
   "metadata": {},
   "outputs": [],
   "source": []
  },
  {
   "cell_type": "code",
   "execution_count": null,
   "metadata": {},
   "outputs": [],
   "source": []
  }
 ],
 "metadata": {
  "kernelspec": {
   "display_name": "Python 3.7.6 64-bit",
   "language": "python",
   "name": "python3"
  },
  "language_info": {
   "codemirror_mode": {
    "name": "ipython",
    "version": 3
   },
   "file_extension": ".py",
   "mimetype": "text/x-python",
   "name": "python",
   "nbconvert_exporter": "python",
   "pygments_lexer": "ipython3",
   "version": "3.7.6"
  },
  "orig_nbformat": 4,
  "vscode": {
   "interpreter": {
    "hash": "53babf5c189ad8a4933a2bd5063a1840a2c47c9b82a6c06a0d6cefa0137ac8c2"
   }
  }
 },
 "nbformat": 4,
 "nbformat_minor": 2
}
